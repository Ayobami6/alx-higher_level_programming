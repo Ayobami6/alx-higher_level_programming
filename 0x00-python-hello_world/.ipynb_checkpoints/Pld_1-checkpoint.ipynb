{
 "cells": [
  {
   "cell_type": "code",
   "execution_count": 4,
   "metadata": {},
   "outputs": [
    {
     "name": "stdout",
     "output_type": "stream",
     "text": [
      "Programming is like building a multilingual puzzle 98\n"
     ]
    }
   ],
   "source": [
    "number = 98\n",
    "print(f'Programming is like building a multilingual puzzle {number:d}')"
   ]
  },
  {
   "cell_type": "code",
   "execution_count": 5,
   "metadata": {},
   "outputs": [
    {
     "name": "stdout",
     "output_type": "stream",
     "text": [
      "Float: 3.14\n"
     ]
    }
   ],
   "source": [
    "number = 3.14159\n",
    "print(f\"Float: {number:.2f}\")\n"
   ]
  },
  {
   "cell_type": "code",
   "execution_count": 18,
   "metadata": {},
   "outputs": [
    {
     "name": "stdout",
     "output_type": "stream",
     "text": [
      "Holberton SchoolHolberton SchoolHolberton School\n",
      "Holberton\n"
     ]
    }
   ],
   "source": [
    "str = \"Holberton School\"\n",
    "print(\"{}{}{}\\n{}\".format(str, str, str, str[0:9]))"
   ]
  },
  {
   "cell_type": "markdown",
   "metadata": {},
   "source": [
    "This is List slicing\n"
   ]
  },
  {
   "cell_type": "code",
   "execution_count": 14,
   "metadata": {},
   "outputs": [
    {
     "data": {
      "text/plain": [
       "'Holberton'"
      ]
     },
     "execution_count": 14,
     "metadata": {},
     "output_type": "execute_result"
    }
   ],
   "source": [
    "str = \"Holberton School\"\n",
    "str[:9]"
   ]
  },
  {
   "cell_type": "code",
   "execution_count": 19,
   "metadata": {},
   "outputs": [
    {
     "name": "stdout",
     "output_type": "stream",
     "text": [
      "Holberton SchoolHolberton SchoolHolberton School\n",
      "Holberton\n"
     ]
    }
   ],
   "source": [
    "print(str * 3)\n",
    "print(str[:9])"
   ]
  },
  {
   "cell_type": "code",
   "execution_count": 20,
   "metadata": {},
   "outputs": [
    {
     "name": "stdout",
     "output_type": "stream",
     "text": [
      "Holberton SchoolHolberton SchoolHolberton School\n",
      "Holberton\n"
     ]
    }
   ],
   "source": [
    "str = \"Holberton School\"\n",
    "print(f\"{str}{str}{str}\")\n",
    "print(str[:9])"
   ]
  },
  {
   "cell_type": "markdown",
   "metadata": {},
   "source": [
    "Welcome to Holberton School!"
   ]
  },
  {
   "cell_type": "code",
   "execution_count": 3,
   "metadata": {},
   "outputs": [
    {
     "name": "stdout",
     "output_type": "stream",
     "text": [
      "Welcome to Holberton School!\n"
     ]
    }
   ],
   "source": [
    "str1 = \"Holberton\"\n",
    "str2 = \"School\"\n",
    "str1 = str1 + \" \" + str2\n",
    "print(f\"Welcome to {str1}!\")"
   ]
  },
  {
   "cell_type": "code",
   "execution_count": 5,
   "metadata": {},
   "outputs": [
    {
     "name": "stdout",
     "output_type": "stream",
     "text": [
      "Welcome to Holberton School!\n"
     ]
    }
   ],
   "source": [
    "str1 = \"Holberton\"\n",
    "str2 = \"School\"\n",
    "# str1 += \" \" + str2\n",
    "print(f\"Welcome to {str1} {str2}!\")"
   ]
  },
  {
   "cell_type": "markdown",
   "metadata": {},
   "source": [
    "Simple text"
   ]
  },
  {
   "cell_type": "code",
   "execution_count": 1,
   "metadata": {},
   "outputs": [
    {
     "ename": "SyntaxError",
     "evalue": "invalid syntax (2811856038.py, line 1)",
     "output_type": "error",
     "traceback": [
      "\u001b[0;36m  Input \u001b[0;32mIn [1]\u001b[0;36m\u001b[0m\n\u001b[0;31m    jupyter nbconvert --to webpdf --allow-chromium-download Pld_1.ipynb\u001b[0m\n\u001b[0m            ^\u001b[0m\n\u001b[0;31mSyntaxError\u001b[0m\u001b[0;31m:\u001b[0m invalid syntax\n"
     ]
    }
   ],
   "source": [
    "jupyter nbconvert --to webpdf --allow-chromium-download Pld_1.ipynb"
   ]
  },
  {
   "cell_type": "markdown",
   "metadata": {},
   "source": [
    "jupyter nbconvert --to webpdf --no-input Pld_1.ipynb"
   ]
  }
 ],
 "metadata": {
  "kernelspec": {
   "display_name": "Python 3 (ipykernel)",
   "language": "python",
   "name": "python3"
  },
  "language_info": {
   "codemirror_mode": {
    "name": "ipython",
    "version": 3
   },
   "file_extension": ".py",
   "mimetype": "text/x-python",
   "name": "python",
   "nbconvert_exporter": "python",
   "pygments_lexer": "ipython3",
   "version": "3.9.12"
  },
  "vscode": {
   "interpreter": {
    "hash": "916dbcbb3f70747c44a77c7bcd40155683ae19c65e1c03b4aa3499c5328201f1"
   }
  }
 },
 "nbformat": 4,
 "nbformat_minor": 2
}
